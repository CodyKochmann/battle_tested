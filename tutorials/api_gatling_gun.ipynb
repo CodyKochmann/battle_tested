{
 "cells": [
  {
   "cell_type": "markdown",
   "metadata": {
    "collapsed": true
   },
   "source": [
    "## Do you have a nice web api that you didn't have time to test?"
   ]
  },
  {
   "cell_type": "code",
   "execution_count": null,
   "metadata": {},
   "outputs": [],
   "source": [
    "import requests\n",
    "\n",
    "def api_gatling_gun(a, b):\n",
    "    try:\n",
    "        requests.post('https://mysite.com/login', params={\n",
    "            'user':a,\n",
    "            'password':b\n",
    "        })\n",
    "    except Exception:\n",
    "        # all exceptions here will be issues form requests.post\n",
    "        # look at your server logs to see what breaks\n",
    "        pass\n",
    "    \n",
    "fuzz(api_gatling_gun)"
   ]
  },
  {
   "cell_type": "markdown",
   "metadata": {},
   "source": [
    "This has been tremendously helpful in finding issues with api's that I have written in the past. As a word of warning to those who want to try this, keep in mind that `battle_tested` can only fuzz what you give it.\n",
    "\n",
    "This function may be giving the server a really rough time with the 'user' and 'password' fields but any fields you don't specify in the harness function will still need to be tested in the future. (I learned this the hard way)"
   ]
  },
  {
   "cell_type": "code",
   "execution_count": null,
   "metadata": {},
   "outputs": [],
   "source": [
    ""
   ]
  }
 ],
 "metadata": {
  "kernelspec": {
   "display_name": "Python 2",
   "language": "python",
   "name": "python2"
  },
  "language_info": {
   "codemirror_mode": {
    "name": "ipython",
    "version": 2.0
   },
   "file_extension": ".py",
   "mimetype": "text/x-python",
   "name": "python",
   "nbconvert_exporter": "python",
   "pygments_lexer": "ipython2",
   "version": "2.7.6"
  }
 },
 "nbformat": 4,
 "nbformat_minor": 0
}