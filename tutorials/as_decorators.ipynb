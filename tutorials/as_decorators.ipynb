{
 "cells": [
  {
   "cell_type": "markdown",
   "metadata": {
    "collapsed": true
   },
   "source": [
    "## Don't like writing dedicated test code? Let `battle_tested` do it for you."
   ]
  },
  {
   "cell_type": "code",
   "execution_count": 1,
   "metadata": {},
   "outputs": [
    {
     "name": "stdout",
     "output_type": "stream",
     "text": [
      "Exception reporting mode: Plain\n"
     ]
    }
   ],
   "source": [
    "%xmode plain"
   ]
  },
  {
   "cell_type": "code",
   "execution_count": 2,
   "metadata": {},
   "outputs": [
    {
     "name": "stdout",
     "output_type": "stream",
     "text": [
      "testing: hardened_int()\nFalsifying example: fuzz(arg_list=[Decimal('Infinity')])\ntotal tests: 14\n"
     ]
    },
    {
     "ename": "OverflowError",
     "evalue": "\n\n--------------------- battle_tested crashed hardened_int() ---------------------\n\nError Message:\n\n   OverflowError - cannot convert Infinity to integer\n\nBreakpoint: <ipython-input-2-a1981437fc5c> - line 7\nTo reproduce this error, run:\n\n   hardened_int(Decimal('Infinity'))\n\n----------------------------------------------------------------------------------\n",
     "traceback": [
      "Traceback \u001b[0;36m(most recent call last)\u001b[0m:\n",
      "  File \u001b[1;32m\"<ipython-input-2-a1981437fc5c>\"\u001b[0m, line \u001b[1;32m3\u001b[0m, in \u001b[1;35m<module>\u001b[0m\n    @battle_tested()\n",
      "  File \u001b[1;32m\"/Users/cody/py3/lib/python3.6/site-packages/battle_tested/__init__.py\"\u001b[0m, line \u001b[1;32m447\u001b[0m, in \u001b[1;35m__call__\u001b[0m\n    self.fuzz(fn, seconds=self.seconds, max_tests=self.max_tests, verbose=self.verbose)\n",
      "  File \u001b[1;32m\"/Users/cody/py3/lib/python3.6/site-packages/battle_tested/__init__.py\"\u001b[0m, line \u001b[1;32m428\u001b[0m, in \u001b[1;35mfuzz\u001b[0m\n    fuzz()\n",
      "  File \u001b[1;32m\"/Users/cody/py3/lib/python3.6/site-packages/battle_tested/__init__.py\"\u001b[0m, line \u001b[1;32m392\u001b[0m, in \u001b[1;35mfuzz\u001b[0m\n    @given(strategy)\n",
      "  File \u001b[1;32m\"/Users/cody/py3/lib/python3.6/site-packages/hypothesis/core.py\"\u001b[0m, line \u001b[1;32m648\u001b[0m, in \u001b[1;35mwrapped_test\u001b[0m\n    state.run()\n",
      "  File \u001b[1;32m\"/Users/cody/py3/lib/python3.6/site-packages/hypothesis/core.py\"\u001b[0m, line \u001b[1;32m542\u001b[0m, in \u001b[1;35mrun\u001b[0m\n    print_example=True, is_final=True\n",
      "  File \u001b[1;32m\"/Users/cody/py3/lib/python3.6/site-packages/hypothesis/executors.py\"\u001b[0m, line \u001b[1;32m58\u001b[0m, in \u001b[1;35mdefault_new_style_executor\u001b[0m\n    return function(data)\n",
      "  File \u001b[1;32m\"/Users/cody/py3/lib/python3.6/site-packages/hypothesis/core.py\"\u001b[0m, line \u001b[1;32m111\u001b[0m, in \u001b[1;35mrun\u001b[0m\n    return test(*args, **kwargs)\n",
      "  File \u001b[1;32m\"/Users/cody/py3/lib/python3.6/site-packages/battle_tested/__init__.py\"\u001b[0m, line \u001b[1;32m424\u001b[0m, in \u001b[1;35mfuzz\u001b[0m\n    raise ex\n",
      "  File \u001b[1;32m\"/Users/cody/py3/lib/python3.6/site-packages/battle_tested/__init__.py\"\u001b[0m, line \u001b[1;32m399\u001b[0m, in \u001b[1;35mfuzz\u001b[0m\n    fn(*arg_list)\n",
      "\u001b[0;36m  File \u001b[0;32m\"<ipython-input-2-a1981437fc5c>\"\u001b[0;36m, line \u001b[0;32m7\u001b[0;36m, in \u001b[0;35mhardened_int\u001b[0;36m\u001b[0m\n\u001b[0;31m    return int(a)\u001b[0m\n",
      "\u001b[0;31mOverflowError\u001b[0m\u001b[0;31m:\u001b[0m \n\n--------------------- battle_tested crashed hardened_int() ---------------------\n\nError Message:\n\n   OverflowError - cannot convert Infinity to integer\n\nBreakpoint: <ipython-input-2-a1981437fc5c> - line 7\nTo reproduce this error, run:\n\n   hardened_int(Decimal('Infinity'))\n\n----------------------------------------------------------------------------------\n\n"
     ],
     "output_type": "error"
    }
   ],
   "source": [
    "from battle_tested import battle_tested\n",
    "\n",
    "@battle_tested()\n",
    "def hardened_int(a):\n",
    "    \"\"\" makes an int no matter what \"\"\"\n",
    "    try:\n",
    "        return int(a)\n",
    "    except (ValueError, TypeError):\n",
    "        return 0"
   ]
  },
  {
   "cell_type": "code",
   "execution_count": null,
   "metadata": {},
   "outputs": [],
   "source": [
    ""
   ]
  }
 ],
 "metadata": {
  "kernelspec": {
   "display_name": "Python 2",
   "language": "python",
   "name": "python2"
  },
  "language_info": {
   "codemirror_mode": {
    "name": "ipython",
    "version": 2.0
   },
   "file_extension": ".py",
   "mimetype": "text/x-python",
   "name": "python",
   "nbconvert_exporter": "python",
   "pygments_lexer": "ipython2",
   "version": "2.7.6"
  }
 },
 "nbformat": 4,
 "nbformat_minor": 0
}