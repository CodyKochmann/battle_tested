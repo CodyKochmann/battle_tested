{
 "cells": [
  {
   "cell_type": "code",
   "execution_count": 16,
   "metadata": {},
   "outputs": [
    {
     "name": "stdout",
     "output_type": "stream",
     "text": [
      "Exception reporting mode: Plain\n"
     ]
    }
   ],
   "source": [
    "%xmode plain"
   ]
  },
  {
   "cell_type": "markdown",
   "metadata": {},
   "source": [
    "## `battle_tested` was originally created to harden your safeties.\n",
    "\n",
    "#### In the example below `battle_tested` is being used to harden a function that is suppose to give you a predictable list of strings so you can continue with your code knowing the input has already been sanitized."
   ]
  },
  {
   "cell_type": "code",
   "execution_count": 41,
   "metadata": {
    "collapsed": true
   },
   "outputs": [],
   "source": [
    "def list_of_strings_v1(iterable):\n",
    "    \"\"\" converts the iterable input into a list of strings \"\"\"\n",
    "    # build the output\n",
    "    out = [str(i) for i in iterable]\n",
    "    # validate the output\n",
    "    for i in out:\n",
    "        assert type(i) == str\n",
    "    # return\n",
    "    return out"
   ]
  },
  {
   "cell_type": "markdown",
   "metadata": {},
   "source": [
    "#### Here's an example of what many programmers would consider enough of a test. "
   ]
  },
  {
   "cell_type": "code",
   "execution_count": 42,
   "metadata": {},
   "outputs": [
    {
     "data": {
      "text/plain": [
       "['0', '1', '2', '3', '4', '5', '6', '7', '8', '9']"
      ]
     },
     "execution_count": 42,
     "metadata": {},
     "output_type": "execute_result"
    }
   ],
   "source": [
    "list_of_strings_v1(range(10))"
   ]
  },
  {
   "cell_type": "markdown",
   "metadata": {},
   "source": [
    "#### The above proves it works and is pretty clean and understandable right?"
   ]
  },
  {
   "cell_type": "code",
   "execution_count": 43,
   "metadata": {},
   "outputs": [
    {
     "name": "stdout",
     "output_type": "stream",
     "text": [
      "testing: list_of_strings_v1()\n",
      "Falsifying example: fuzz(arg_list=[False])\n",
      "total tests: 5\n"
     ]
    },
    {
     "ename": "TypeError",
     "evalue": "\n\n------------------ battle_tested crashed list_of_strings_v1() ------------------\n\nError Message:\n\n   TypeError - 'bool' object is not iterable\n\nBreakpoint: <ipython-input-41-94743c50bb29> - line 4\nTo reproduce this error, run:\n\n   list_of_strings_v1(False)\n\n----------------------------------------------------------------------------------\n",
     "output_type": "error",
     "traceback": [
      "Traceback \u001b[0;36m(most recent call last)\u001b[0m:\n",
      "  File \u001b[1;32m\"<ipython-input-43-62eb12834a26>\"\u001b[0m, line \u001b[1;32m3\u001b[0m, in \u001b[1;35m<module>\u001b[0m\n    fuzz(list_of_strings_v1)\n",
      "  File \u001b[1;32m\"/Users/cody/py3/lib/python3.6/site-packages/battle_tested/__init__.py\"\u001b[0m, line \u001b[1;32m428\u001b[0m, in \u001b[1;35mfuzz\u001b[0m\n    fuzz()\n",
      "  File \u001b[1;32m\"/Users/cody/py3/lib/python3.6/site-packages/battle_tested/__init__.py\"\u001b[0m, line \u001b[1;32m392\u001b[0m, in \u001b[1;35mfuzz\u001b[0m\n    @given(strategy)\n",
      "  File \u001b[1;32m\"/Users/cody/py3/lib/python3.6/site-packages/hypothesis/core.py\"\u001b[0m, line \u001b[1;32m648\u001b[0m, in \u001b[1;35mwrapped_test\u001b[0m\n    state.run()\n",
      "  File \u001b[1;32m\"/Users/cody/py3/lib/python3.6/site-packages/hypothesis/core.py\"\u001b[0m, line \u001b[1;32m542\u001b[0m, in \u001b[1;35mrun\u001b[0m\n    print_example=True, is_final=True\n",
      "  File \u001b[1;32m\"/Users/cody/py3/lib/python3.6/site-packages/hypothesis/executors.py\"\u001b[0m, line \u001b[1;32m58\u001b[0m, in \u001b[1;35mdefault_new_style_executor\u001b[0m\n    return function(data)\n",
      "  File \u001b[1;32m\"/Users/cody/py3/lib/python3.6/site-packages/hypothesis/core.py\"\u001b[0m, line \u001b[1;32m111\u001b[0m, in \u001b[1;35mrun\u001b[0m\n    return test(*args, **kwargs)\n",
      "  File \u001b[1;32m\"/Users/cody/py3/lib/python3.6/site-packages/battle_tested/__init__.py\"\u001b[0m, line \u001b[1;32m424\u001b[0m, in \u001b[1;35mfuzz\u001b[0m\n    raise ex\n",
      "  File \u001b[1;32m\"/Users/cody/py3/lib/python3.6/site-packages/battle_tested/__init__.py\"\u001b[0m, line \u001b[1;32m399\u001b[0m, in \u001b[1;35mfuzz\u001b[0m\n    fn(*arg_list)\n",
      "\u001b[0;36m  File \u001b[0;32m\"<ipython-input-41-94743c50bb29>\"\u001b[0;36m, line \u001b[0;32m4\u001b[0;36m, in \u001b[0;35mlist_of_strings_v1\u001b[0;36m\u001b[0m\n\u001b[0;31m    out = [str(i) for i in iterable]\u001b[0m\n",
      "\u001b[0;31mTypeError\u001b[0m\u001b[0;31m:\u001b[0m \n\n------------------ battle_tested crashed list_of_strings_v1() ------------------\n\nError Message:\n\n   TypeError - 'bool' object is not iterable\n\nBreakpoint: <ipython-input-41-94743c50bb29> - line 4\nTo reproduce this error, run:\n\n   list_of_strings_v1(False)\n\n----------------------------------------------------------------------------------\n\n"
     ]
    }
   ],
   "source": [
    "from battle_tested import fuzz\n",
    "\n",
    "fuzz(list_of_strings_v1)"
   ]
  },
  {
   "cell_type": "markdown",
   "metadata": {},
   "source": [
    "#### And with 2 lines of code, that was proven wrong. \n",
    "\n",
    "#### While you could argue that the input of the tests is crazy and would never happen with how you structured your code, lets see how hard it really is to rewrite this function so it actually can reliably act as your input's filter."
   ]
  },
  {
   "cell_type": "code",
   "execution_count": 44,
   "metadata": {},
   "outputs": [
    {
     "name": "stdout",
     "output_type": "stream",
     "text": [
      "testing: list_of_strings_v2()\n",
      "tests: 52           speed: 483/sec  avg: 483\n",
      "tests: 567          speed: 1504/sec  avg: 994\n",
      "tests: 927          speed: 1444/sec  avg: 1144\n",
      "tests: 1482         speed: 1558/sec  avg: 1247\n",
      "tests: 1953         speed: 1573/sec  avg: 1312\n",
      "tests: 2261         speed: 1499/sec  avg: 1343\n",
      "tests: 2721         speed: 1525/sec  avg: 1369\n",
      "total tests: 3208tests: 3163         speed: 1531/sec  avg: 1390\n",
      "battle_tested: no falsifying examples found\n",
      "\n"
     ]
    }
   ],
   "source": [
    "def list_of_strings_v2(iterable):\n",
    "    \"\"\" converts the iterable input into a list of strings \"\"\"\n",
    "    try:\n",
    "        iter(iterable)\n",
    "        # build the output\n",
    "        out = [str(i) for i in iterable]\n",
    "    except TypeError: # raised when input was not iterable\n",
    "        out = [str(iterable)]\n",
    "    # validate the output\n",
    "    for i in out:\n",
    "        assert type(i) == str\n",
    "    # return\n",
    "    return out\n",
    "\n",
    "fuzz(list_of_strings_v2)"
   ]
  },
  {
   "cell_type": "markdown",
   "metadata": {},
   "source": [
    "#### With the new version, the code not only seems like it can have anything thrown at it, `battle_tested` prove's its validity by running thousands of tests without a single issue."
   ]
  }
 ],
 "metadata": {
  "kernelspec": {
   "display_name": "Python 3",
   "language": "python",
   "name": "python3"
  },
  "language_info": {
   "codemirror_mode": {
    "name": "ipython",
    "version": 3
   },
   "file_extension": ".py",
   "mimetype": "text/x-python",
   "name": "python",
   "nbconvert_exporter": "python",
   "pygments_lexer": "ipython3",
   "version": "3.6.1"
  }
 },
 "nbformat": 4,
 "nbformat_minor": 1
}
