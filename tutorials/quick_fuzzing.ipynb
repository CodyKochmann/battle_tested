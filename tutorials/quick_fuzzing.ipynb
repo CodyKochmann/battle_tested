{
 "cells": [
  {
   "cell_type": "markdown",
   "metadata": {
    "collapsed": true
   },
   "source": [
    ""
   ]
  },
  {
   "cell_type": "markdown",
   "metadata": {},
   "source": [
    "## For those who just wanna see `battle_tested` work, do this."
   ]
  },
  {
   "cell_type": "code",
   "execution_count": 1,
   "metadata": {},
   "outputs": [],
   "source": [
    "def function_I_want_to_test(arg1):\n",
    "    \"\"\"this is a function we want to harden\"\"\"\n",
    "    i=arg1"
   ]
  },
  {
   "cell_type": "code",
   "execution_count": 2,
   "metadata": {},
   "outputs": [
    {
     "name": "stdout",
     "output_type": "stream",
     "text": [
      "testing: function_I_want_to_test()\ntests: 166          speed: 1544/sec  avg: 1544\n"
     ]
    },
    {
     "name": "stdout",
     "output_type": "stream",
     "text": [
      "tests: 687          speed: 1811/sec  avg: 1677\n"
     ]
    },
    {
     "name": "stdout",
     "output_type": "stream",
     "text": [
      "tests: 1096         speed: 1691/sec  avg: 1682\n"
     ]
    },
    {
     "name": "stdout",
     "output_type": "stream",
     "text": [
      "tests: 1629         speed: 1762/sec  avg: 1702\n"
     ]
    },
    {
     "name": "stdout",
     "output_type": "stream",
     "text": [
      "tests: 2126         speed: 1771/sec  avg: 1716\ntests: 2704         speed: 1823/sec  avg: 1734\n"
     ]
    },
    {
     "name": "stdout",
     "output_type": "stream",
     "text": [
      "tests: 3084         speed: 1766/sec  avg: 1738\n"
     ]
    },
    {
     "name": "stdout",
     "output_type": "stream",
     "text": [
      "total tests: 3638tests: 3636         speed: 1798/sec  avg: 1746\nbattle_tested: no falsifying examples found\n\n"
     ]
    }
   ],
   "source": [
    "from battle_tested import fuzz\n",
    "fuzz(function_I_want_to_test)"
   ]
  }
 ],
 "metadata": {
  "kernelspec": {
   "display_name": "Python 2",
   "language": "python",
   "name": "python2"
  },
  "language_info": {
   "codemirror_mode": {
    "name": "ipython",
    "version": 2.0
   },
   "file_extension": ".py",
   "mimetype": "text/x-python",
   "name": "python",
   "nbconvert_exporter": "python",
   "pygments_lexer": "ipython2",
   "version": "2.7.6"
  }
 },
 "nbformat": 4,
 "nbformat_minor": 0
}