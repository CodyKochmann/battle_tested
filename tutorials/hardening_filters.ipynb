{
 "cells": [
  {
   "cell_type": "code",
   "execution_count": 22,
   "metadata": {},
   "outputs": [
    {
     "name": "stdout",
     "output_type": "stream",
     "text": [
      "['IntervalTimer', 'Timer', 'Verbosity', '__all__', '__builtins__', '__cached__', '__doc__', '__file__', '__loader__', '__name__', '__package__', '__path__', '__spec__', 'battle_tested', 'disable_traceback', 'enable_traceback', 'format_error_message', 'function_arg_count', 'fuzz', 'garbage', 'gc', 'generators', 'given', 'is_py3', 'logging', 'print_function', 'settings', 'st', 'sys', 'tb_controls', 'time', 'traceback', 'traceback_steps', 'wraps']\n"
     ]
    }
   ],
   "source": [
    "import sys\n",
    "from battle_tested import fuzz, disable_traceback\n",
    "disable_traceback()\n",
    "\n",
    "def list_of_strings_v1(iterable):\n",
    "    \"\"\" converts the iterable input into a list of strings \"\"\"\n",
    "    # build the output\n",
    "    out = [str(i) for i in iterable]\n",
    "    # validate the output\n",
    "    for i in out:\n",
    "        assert type(i) == str\n",
    "    # return\n",
    "    return out"
   ]
  },
  {
   "cell_type": "code",
   "execution_count": 23,
   "metadata": {
    "collapsed": true
   },
   "outputs": [
    {
     "data": {
      "text/plain": [
       "['0', '1', '2', '3', '4', '5', '6', '7', '8', '9']"
      ]
     },
     "execution_count": 23,
     "metadata": {},
     "output_type": "execute_result"
    }
   ],
   "source": [
    "list_of_strings_v1(range(10))"
   ]
  },
  {
   "cell_type": "code",
   "execution_count": 24,
   "metadata": {},
   "outputs": [
    {
     "name": "stdout",
     "output_type": "stream",
     "text": [
      "testing: list_of_strings_v1\ntotal tests: 1\ntotal tests: 3\nFalsifying example: fuzz(arg_list=[False])\ntotal tests: 6\n"
     ]
    },
    {
     "ename": "TypeError",
     "evalue": "\n\n------------------ battle_tested crashed list_of_strings_v1() ------------------\n\nError Message:\n\n   TypeError - 'bool' object is not iterable\n\nBreakpoint: <ipython-input-22-4f722cc5c642> - line 14\nTo reproduce this error, run:\n\n   list_of_strings_v1(False)\n\n----------------------------------------------------------------------------------\n",
     "traceback": [
      "\u001b[0;32m<ipython-input-22-4f722cc5c642>\u001b[0m in \u001b[0;36mlist_of_strings_v1\u001b[0;34m(iterable)\u001b[0m\n\u001b[1;32m     12\u001b[0m     \u001b[0;34m\"\"\" converts the iterable input into a list of strings \"\"\"\u001b[0m\u001b[0;34m\u001b[0m\u001b[0m\n\u001b[1;32m     13\u001b[0m     \u001b[0;31m# build the output\u001b[0m\u001b[0;34m\u001b[0m\u001b[0;34m\u001b[0m\u001b[0m\n\u001b[0;32m---> 14\u001b[0;31m     \u001b[0mout\u001b[0m \u001b[0;34m=\u001b[0m \u001b[0;34m[\u001b[0m\u001b[0mstr\u001b[0m\u001b[0;34m(\u001b[0m\u001b[0mi\u001b[0m\u001b[0;34m)\u001b[0m \u001b[0;32mfor\u001b[0m \u001b[0mi\u001b[0m \u001b[0;32min\u001b[0m \u001b[0miterable\u001b[0m\u001b[0;34m]\u001b[0m\u001b[0;34m\u001b[0m\u001b[0m\n\u001b[0m\u001b[1;32m     15\u001b[0m     \u001b[0;31m# validate the output\u001b[0m\u001b[0;34m\u001b[0m\u001b[0;34m\u001b[0m\u001b[0m\n\u001b[1;32m     16\u001b[0m     \u001b[0;32mfor\u001b[0m \u001b[0mi\u001b[0m \u001b[0;32min\u001b[0m \u001b[0mout\u001b[0m\u001b[0;34m:\u001b[0m\u001b[0;34m\u001b[0m\u001b[0m\n",
      "\u001b[0;31mTypeError\u001b[0m: \n\n------------------ battle_tested crashed list_of_strings_v1() ------------------\n\nError Message:\n\n   TypeError - 'bool' object is not iterable\n\nBreakpoint: <ipython-input-22-4f722cc5c642> - line 14\nTo reproduce this error, run:\n\n   list_of_strings_v1(False)\n\n----------------------------------------------------------------------------------\n"
     ],
     "output_type": "error"
    }
   ],
   "source": [
    "fuzz(list_of_strings_v1)"
   ]
  },
  {
   "cell_type": "code",
   "execution_count": 25,
   "metadata": {},
   "outputs": [],
   "source": [
    "def list_of_strings(iterable): # version 2\n",
    "    \"\"\" converts the iterable input into a list of strings \"\"\"\n",
    "    try:\n",
    "        iter(iterable)\n",
    "        # build the output\n",
    "        out = [str(i) for i in iterable]\n",
    "    except TypeError: # raised when input was not iterable\n",
    "        out = [str(iterable)]\n",
    "    # validate the output\n",
    "    for i in out:\n",
    "        assert type(i) == str\n",
    "    # return\n",
    "    return out"
   ]
  },
  {
   "cell_type": "code",
   "execution_count": 26,
   "metadata": {},
   "outputs": [
    {
     "name": "stdout",
     "output_type": "stream",
     "text": [
      "testing: list_of_strings\ntests: 159          speed: 1425/sec  avg: 1425\n"
     ]
    },
    {
     "name": "stdout",
     "output_type": "stream",
     "text": [
      "tests: 653          speed: 1672/sec  avg: 1549\n"
     ]
    },
    {
     "name": "stdout",
     "output_type": "stream",
     "text": [
      "tests: 1267         speed: 1747/sec  avg: 1615\n"
     ]
    },
    {
     "name": "stdout",
     "output_type": "stream",
     "text": [
      "tests: 1745         speed: 1781/sec  avg: 1656\n"
     ]
    },
    {
     "name": "stdout",
     "output_type": "stream",
     "text": [
      "tests: 2145         speed: 1703/sec  avg: 1665\n"
     ]
    },
    {
     "name": "stdout",
     "output_type": "stream",
     "text": [
      "tests: 2558         speed: 1677/sec  avg: 1667\n"
     ]
    },
    {
     "name": "stdout",
     "output_type": "stream",
     "text": [
      "tests: 2888         speed: 1610/sec  avg: 1659\n"
     ]
    },
    {
     "name": "stdout",
     "output_type": "stream",
     "text": [
      "battle_tested: no falsifying examples found\ntotal tests: 3305\n"
     ]
    }
   ],
   "source": [
    "fuzz(list_of_strings)"
   ]
  },
  {
   "cell_type": "code",
   "execution_count": null,
   "metadata": {},
   "outputs": [],
   "source": [
    ""
   ]
  }
 ],
 "metadata": {
  "kernelspec": {
   "display_name": "Python 2",
   "language": "python",
   "name": "python2"
  },
  "language_info": {
   "codemirror_mode": {
    "name": "ipython",
    "version": 2.0
   },
   "file_extension": ".py",
   "mimetype": "text/x-python",
   "name": "python",
   "nbconvert_exporter": "python",
   "pygments_lexer": "ipython2",
   "version": "2.7.6"
  }
 },
 "nbformat": 4,
 "nbformat_minor": 0
}
