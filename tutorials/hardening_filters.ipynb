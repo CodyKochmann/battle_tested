{
 "cells": [
  {
   "cell_type": "code",
   "execution_count": 1,
   "metadata": {},
   "outputs": [],
   "source": [
    "from battle_tested import fuzz\n",
    "\n",
    "def list_of_strings_v1(iterable):\n",
    "    \"\"\" converts the iterable input into a list of strings \"\"\"\n",
    "    # build the output\n",
    "    out = [str(i) for i in iterable]\n",
    "    # validate the output\n",
    "    for i in out:\n",
    "        assert type(i) == str\n",
    "    # return\n",
    "    return out"
   ]
  },
  {
   "cell_type": "code",
   "execution_count": 2,
   "metadata": {
    "collapsed": true
   },
   "outputs": [
    {
     "data": {
      "text/plain": [
       "['0', '1', '2', '3', '4', '5', '6', '7', '8', '9']"
      ]
     },
     "execution_count": 2,
     "metadata": {},
     "output_type": "execute_result"
    }
   ],
   "source": [
    "list_of_strings_v1(range(10))"
   ]
  },
  {
   "cell_type": "code",
   "execution_count": 3,
   "metadata": {},
   "outputs": [
    {
     "name": "stdout",
     "output_type": "stream",
     "text": [
      "testing: list_of_strings_v1\ntotal tests: 1\ntotal tests: 3\nFalsifying example: fuzz(arg_list=[False])\ntotal tests: 6\n"
     ]
    },
    {
     "ename": "TypeError",
     "evalue": "\n\n------------------ battle_tested crashed list_of_strings_v1() ------------------\n\nError Message:\n\n   TypeError - 'bool' object is not iterable\n\nBreakpoint: <ipython-input-1-001b0aa10413> - line 6\nTo reproduce this error, run:\n\n   list_of_strings_v1(False)\n\n----------------------------------------------------------------------------------\n",
     "traceback": [
      "\u001b[0;31mTypeError\u001b[0m: \n\n------------------ battle_tested crashed list_of_strings_v1() ------------------\n\nError Message:\n\n   TypeError - 'bool' object is not iterable\n\nBreakpoint: <ipython-input-1-001b0aa10413> - line 6\nTo reproduce this error, run:\n\n   list_of_strings_v1(False)\n\n----------------------------------------------------------------------------------\n"
     ],
     "output_type": "error"
    }
   ],
   "source": [
    "fuzz(list_of_strings_v1)"
   ]
  },
  {
   "cell_type": "code",
   "execution_count": 4,
   "metadata": {},
   "outputs": [],
   "source": [
    "def list_of_strings(iterable): # version 2\n",
    "    \"\"\" converts the iterable input into a list of strings \"\"\"\n",
    "    try:\n",
    "        iter(iterable)\n",
    "        # build the output\n",
    "        out = [str(i) for i in iterable]\n",
    "    except TypeError: # raised when input was not iterable\n",
    "        out = [str(iterable)]\n",
    "    # validate the output\n",
    "    for i in out:\n",
    "        assert type(i) == str\n",
    "    # return\n",
    "    return out"
   ]
  },
  {
   "cell_type": "code",
   "execution_count": 5,
   "metadata": {},
   "outputs": [
    {
     "name": "stdout",
     "output_type": "stream",
     "text": [
      "testing: list_of_strings\ntests: 199          speed: 1832/sec  avg: 1832\n"
     ]
    },
    {
     "name": "stdout",
     "output_type": "stream",
     "text": [
      "tests: 722          speed: 1705/sec  avg: 1769\n"
     ]
    },
    {
     "name": "stdout",
     "output_type": "stream",
     "text": [
      "tests: 1270         speed: 1768/sec  avg: 1769\n"
     ]
    },
    {
     "name": "stdout",
     "output_type": "stream",
     "text": [
      "tests: 1753         speed: 1788/sec  avg: 1773\n"
     ]
    },
    {
     "name": "stdout",
     "output_type": "stream",
     "text": [
      "tests: 2128         speed: 1676/sec  avg: 1754\n"
     ]
    },
    {
     "name": "stdout",
     "output_type": "stream",
     "text": [
      "tests: 2532         speed: 1635/sec  avg: 1734\n"
     ]
    },
    {
     "name": "stdout",
     "output_type": "stream",
     "text": [
      "tests: 2967         speed: 1591/sec  avg: 1714\nbattle_tested: no falsifying examples found\ntotal tests: 3236\n"
     ]
    }
   ],
   "source": [
    "fuzz(list_of_strings)"
   ]
  }
 ],
 "metadata": {
  "kernelspec": {
   "display_name": "Python 2",
   "language": "python",
   "name": "python2"
  },
  "language_info": {
   "codemirror_mode": {
    "name": "ipython",
    "version": 2.0
   },
   "file_extension": ".py",
   "mimetype": "text/x-python",
   "name": "python",
   "nbconvert_exporter": "python",
   "pygments_lexer": "ipython2",
   "version": "2.7.6"
  }
 },
 "nbformat": 4,
 "nbformat_minor": 0
}
