{
 "cells": [
  {
   "cell_type": "code",
   "execution_count": 20,
   "metadata": {
    "collapsed": true
   },
   "outputs": [
    {
     "name": "stdout",
     "output_type": "stream",
     "text": [
      "Exception reporting mode: Plain\n"
     ]
    }
   ],
   "source": [
    "# disable pycharm's insane logging\n",
    "%xmode plain"
   ]
  },
  {
   "cell_type": "markdown",
   "metadata": {
    "collapsed": true
   },
   "source": [
    "### Using `battle_tested\n",
    "\n",
    "`battle_tested` doesn't necessisarily need to be used as a fuzzer. I like to use its testing \n",
    "funcionality to literally \"feel out\" a library that is recommended to me so I know what works\n",
    "and what will cause issues.\n",
    "\n",
    "Here is how I used `battle_tested` to \"feel out\" sqlitedict so when I'm using it, there aren't \n",
    "any surprises."
   ]
  },
  {
   "cell_type": "markdown",
   "metadata": {},
   "source": [
    "First, lets import `SqliteDict` and make a harness that will allow us to test what can be assigned and what will cause random explosions to happen."
   ]
  },
  {
   "cell_type": "code",
   "execution_count": 21,
   "metadata": {},
   "outputs": [],
   "source": [
    "from sqlitedict import SqliteDict\n",
    "\n",
    "def harness(key, value):\n",
    "    \"\"\" this tests what can be assigned in SqliteDict's keys and values \"\"\"\n",
    "    mydict = SqliteDict(\":memory:\")\n",
    "    mydict[key] = value"
   ]
  },
  {
   "cell_type": "markdown",
   "metadata": {},
   "source": [
    "Now, we import the tools we need from `battle_tested` and fuzz it."
   ]
  },
  {
   "cell_type": "code",
   "execution_count": 29,
   "metadata": {},
   "outputs": [
    {
     "name": "stdout",
     "output_type": "stream",
     "text": [
      "testing: harness()\ntests: 6            speed: 58/sec  avg: 58\n"
     ]
    },
    {
     "name": "stdout",
     "output_type": "stream",
     "text": [
      "tests: 55           speed: 154/sec  avg: 106\n"
     ]
    },
    {
     "name": "stdout",
     "output_type": "stream",
     "text": [
      "tests: 108          speed: 177/sec  avg: 130\n"
     ]
    },
    {
     "name": "stdout",
     "output_type": "stream",
     "text": [
      "tests: 158          speed: 183/sec  avg: 143\n"
     ]
    },
    {
     "name": "stdout",
     "output_type": "stream",
     "text": [
      "tests: 209          speed: 187/sec  avg: 152\n"
     ]
    },
    {
     "name": "stdout",
     "output_type": "stream",
     "text": [
      "tests: 260          speed: 189/sec  avg: 158\n"
     ]
    },
    {
     "name": "stdout",
     "output_type": "stream",
     "text": [
      "tests: 309          speed: 190/sec  avg: 162\n"
     ]
    },
    {
     "name": "stdout",
     "output_type": "stream",
     "text": [
      "tests: 358          speed: 190/sec  avg: 166\ntotal tests: 391\nfound 1 examples that break harness()\n"
     ]
    }
   ],
   "source": [
    "from battle_tested import fuzz, success_map, crash_map\n",
    "\n",
    "fuzz(harness, keep_testing=True) # keep testing allows us to collect \"all\" crashes"
   ]
  },
  {
   "cell_type": "markdown",
   "metadata": {},
   "source": [
    "Now we can call `success_map()` and `crash_map()` to start to get a feel for what is accepted and what isn't."
   ]
  },
  {
   "cell_type": "code",
   "execution_count": 30,
   "metadata": {
    "collapsed": true
   },
   "outputs": [
    {
     "data": {
      "text/plain": [
       "((decimal.Decimal, hypothesis.types.RandomWithSeed),\n (decimal.Decimal, float),\n (decimal.Decimal, uuid.UUID),\n (decimal.Decimal, bytes),\n (decimal.Decimal, str),\n (decimal.Decimal, hypothesis.strategies.RandomSeeder),\n (decimal.Decimal, bool),\n (decimal.Decimal, decimal.Decimal),\n (fractions.Fraction, bytes),\n (fractions.Fraction, float),\n (fractions.Fraction, hypothesis.strategies.RandomSeeder),\n (fractions.Fraction, tuple),\n (fractions.Fraction, list),\n (fractions.Fraction, complex),\n (NoneType, list),\n (NoneType, fractions.Fraction),\n (NoneType, hypothesis.types.RandomWithSeed),\n (NoneType, str),\n (NoneType, hypothesis.strategies.RandomSeeder),\n (NoneType, int),\n (NoneType, NoneType),\n (NoneType, decimal.Decimal),\n (NoneType, dict),\n (hypothesis.strategies.iterables.<locals>.PrettyIter, dict),\n (hypothesis.strategies.iterables.<locals>.PrettyIter, tuple),\n (hypothesis.strategies.iterables.<locals>.PrettyIter,\n  hypothesis.types.RandomWithSeed),\n (hypothesis.strategies.iterables.<locals>.PrettyIter, list),\n (hypothesis.strategies.iterables.<locals>.PrettyIter, float),\n (hypothesis.strategies.iterables.<locals>.PrettyIter, complex),\n (hypothesis.strategies.iterables.<locals>.PrettyIter, bytes),\n (hypothesis.strategies.iterables.<locals>.PrettyIter, uuid.UUID),\n (hypothesis.strategies.RandomSeeder, tuple),\n (hypothesis.strategies.RandomSeeder, bool),\n (hypothesis.strategies.RandomSeeder, bytes),\n (hypothesis.strategies.RandomSeeder, decimal.Decimal),\n (hypothesis.strategies.RandomSeeder, dict),\n (hypothesis.strategies.RandomSeeder, str),\n (hypothesis.strategies.RandomSeeder, hypothesis.types.RandomWithSeed),\n (hypothesis.strategies.RandomSeeder, fractions.Fraction),\n (hypothesis.strategies.RandomSeeder, float),\n (hypothesis.strategies.RandomSeeder, uuid.UUID),\n (hypothesis.types.RandomWithSeed, dict),\n (hypothesis.types.RandomWithSeed, tuple),\n (hypothesis.types.RandomWithSeed, hypothesis.types.RandomWithSeed),\n (hypothesis.types.RandomWithSeed, float),\n (hypothesis.types.RandomWithSeed, int),\n (hypothesis.types.RandomWithSeed, fractions.Fraction),\n (hypothesis.types.RandomWithSeed, complex),\n (hypothesis.types.RandomWithSeed, bool),\n (hypothesis.types.RandomWithSeed, NoneType),\n (uuid.UUID, complex),\n (uuid.UUID, bytes),\n (uuid.UUID, uuid.UUID),\n (uuid.UUID, NoneType),\n (uuid.UUID, decimal.Decimal),\n (uuid.UUID, dict),\n (uuid.UUID, list),\n (uuid.UUID, int),\n (bool, hypothesis.types.RandomWithSeed),\n (bool, bool),\n (bool, list),\n (bool, fractions.Fraction),\n (bool, bytes),\n (bool, str),\n (bool, float),\n (bool, uuid.UUID),\n (bool, hypothesis.strategies.RandomSeeder),\n (bool, NoneType),\n (bool, tuple),\n (bool, decimal.Decimal),\n (bool, dict),\n (bool, complex),\n (bytes, NoneType),\n (bytes, hypothesis.strategies.RandomSeeder),\n (bytes, uuid.UUID),\n (bytes, bool),\n (bytes, bytes),\n (bytes, str),\n (bytes, tuple),\n (bytes, hypothesis.types.RandomWithSeed),\n (bytes, dict),\n (bytes, list),\n (bytes, float),\n (complex, float),\n (complex, hypothesis.strategies.RandomSeeder),\n (complex, fractions.Fraction),\n (complex, complex),\n (complex, int),\n (complex, hypothesis.types.RandomWithSeed),\n (complex, str),\n (dict, int),\n (dict, hypothesis.strategies.RandomSeeder),\n (dict, bool),\n (dict, dict),\n (dict, decimal.Decimal),\n (dict, hypothesis.types.RandomWithSeed),\n (dict, complex),\n (dict, tuple),\n (dict, float),\n (dict, bytes),\n (dict, str),\n (dict, NoneType),\n (float, int),\n (float, bool),\n (float, hypothesis.types.RandomWithSeed),\n (float, dict),\n (float, bytes),\n (float, str),\n (float, list),\n (float, NoneType),\n (int, fractions.Fraction),\n (int, decimal.Decimal),\n (int, NoneType),\n (int, str),\n (int, bytes),\n (int, complex),\n (int, hypothesis.types.RandomWithSeed),\n (int, bool),\n (int, hypothesis.strategies.RandomSeeder),\n (list, bool),\n (list, fractions.Fraction),\n (list, bytes),\n (list, str),\n (list, dict),\n (str, uuid.UUID),\n (str, str),\n (str, NoneType),\n (str, int),\n (str, dict),\n (str, decimal.Decimal),\n (str, tuple),\n (str, hypothesis.types.RandomWithSeed),\n (str, list),\n (str, bytes),\n (str, complex),\n (str, hypothesis.strategies.RandomSeeder),\n (tuple, bool),\n (tuple, hypothesis.types.RandomWithSeed),\n (tuple, dict),\n (tuple, fractions.Fraction),\n (tuple, list),\n (tuple, float),\n (tuple, uuid.UUID),\n (tuple, NoneType),\n (tuple, bytes),\n (tuple, str))"
      ]
     },
     "execution_count": 30,
     "metadata": {},
     "output_type": "execute_result"
    }
   ],
   "source": [
    "success_map()"
   ]
  },
  {
   "cell_type": "code",
   "execution_count": 31,
   "metadata": {
    "collapsed": false
   },
   "outputs": [
    {
     "data": {
      "text/plain": [
       "({'args': ({'\\n児\\r': (0.248129851304151-5.746517236706694e+18j),\n    '(\\n*\\x05c\\U000a0c6dꍥ\\x16': (),\n    '\\x90\\x10\\x02\\U000606feG6\\U0006c4d7': '\\x9a',\n    '\\x92\\x08óC\\U0006a176aƕ': -2525536483606756998302721813900421},\n   iter([])),\n  'message': \"Can't pickle local object 'iterables.<locals>.PrettyIter'\",\n  'type': AttributeError},)"
      ]
     },
     "execution_count": 31,
     "metadata": {},
     "output_type": "execute_result"
    }
   ],
   "source": [
    "crash_map()"
   ]
  },
  {
   "cell_type": "code",
   "execution_count": 16,
   "metadata": {},
   "outputs": [],
   "source": [
    ""
   ]
  },
  {
   "cell_type": "code",
   "execution_count": 16,
   "metadata": {},
   "outputs": [],
   "source": [
    ""
   ]
  },
  {
   "cell_type": "code",
   "execution_count": null,
   "metadata": {},
   "outputs": [],
   "source": [
    ""
   ]
  }
 ],
 "metadata": {
  "kernelspec": {
   "display_name": "Python 2",
   "language": "python",
   "name": "python2"
  },
  "language_info": {
   "codemirror_mode": {
    "name": "ipython",
    "version": 2.0
   },
   "file_extension": ".py",
   "mimetype": "text/x-python",
   "name": "python",
   "nbconvert_exporter": "python",
   "pygments_lexer": "ipython2",
   "version": "2.7.6"
  }
 },
 "nbformat": 4,
 "nbformat_minor": 0
}