{
 "cells": [
  {
   "cell_type": "code",
   "execution_count": 4,
   "metadata": {
    "collapsed": true
   },
   "outputs": [],
   "source": [
    "# disable pycharm's insane logging\n",
    "import sys \n",
    "sys.stderr.write = lambda i:i"
   ]
  },
  {
   "cell_type": "markdown",
   "metadata": {
    "collapsed": true
   },
   "source": [
    "### Using `battle_tested\n",
    "\n",
    "`battle_tested` doesn't necessisarily need to be used as a fuzzer. I like to use its testing \n",
    "funcionality to literally \"feel out\" a library that is recommended to me so I know what works\n",
    "and what will cause issues.\n",
    "\n",
    "Here is how I used `battle_tested` to \"feel out\" sqlitedict so when I'm using it, there aren't \n",
    "any surprises."
   ]
  },
  {
   "cell_type": "markdown",
   "metadata": {},
   "source": [
    "First, lets import `SqliteDict` and make a harness that will allow us to test what can be assigned and what will cause random explosions to happen."
   ]
  },
  {
   "cell_type": "code",
   "execution_count": 5,
   "metadata": {},
   "outputs": [],
   "source": [
    "from sqlitedict import SqliteDict\n",
    "\n",
    "def harness(key, value):\n",
    "    \"\"\" this tests what can be assigned in SqliteDict's keys and values \"\"\"\n",
    "    mydict = SqliteDict(\":memory:\")\n",
    "    mydict[key] = value"
   ]
  },
  {
   "cell_type": "markdown",
   "metadata": {},
   "source": [
    "Now, we import the tools we need from `battle_tested` and fuzz it."
   ]
  },
  {
   "cell_type": "code",
   "execution_count": 6,
   "metadata": {},
   "outputs": [
    {
     "name": "stdout",
     "output_type": "stream",
     "text": [
      "testing: harness()\ntests: 12           speed: 119/sec  avg: 119\n"
     ]
    },
    {
     "name": "stdout",
     "output_type": "stream",
     "text": [
      "tests: 58           speed: 162/sec  avg: 141\n"
     ]
    },
    {
     "name": "stdout",
     "output_type": "stream",
     "text": [
      "tests: 104          speed: 169/sec  avg: 150\n"
     ]
    },
    {
     "name": "stdout",
     "output_type": "stream",
     "text": [
      "tests: 156          speed: 179/sec  avg: 157\n"
     ]
    },
    {
     "name": "stdout",
     "output_type": "stream",
     "text": [
      "tests: 204          speed: 181/sec  avg: 162\n"
     ]
    },
    {
     "name": "stdout",
     "output_type": "stream",
     "text": [
      "tests: 258          speed: 186/sec  avg: 166\n"
     ]
    },
    {
     "name": "stdout",
     "output_type": "stream",
     "text": [
      "tests: 304          speed: 185/sec  avg: 169\n"
     ]
    },
    {
     "name": "stdout",
     "output_type": "stream",
     "text": [
      "tests: 351          speed: 185/sec  avg: 171\ntotal tests: 383\nfound 1 examples that break harness()\n"
     ]
    }
   ],
   "source": [
    "from battle_tested import fuzz, success_map, crash_map\n",
    "\n",
    "fuzz(harness, keep_testing=True) \n",
    "# keep testing allows us to collect \"all\" crashes"
   ]
  },
  {
   "cell_type": "markdown",
   "metadata": {},
   "source": [
    "Now we can call `success_map()` and `crash_map()` to start to get a feel for what is accepted and what isn't."
   ]
  },
  {
   "cell_type": "code",
   "execution_count": 7,
   "metadata": {},
   "outputs": [
    {
     "data": {
      "text/plain": [
       "[(decimal.Decimal, bytes),\n (decimal.Decimal, hypothesis.types.RandomWithSeed),\n (decimal.Decimal, float),\n (decimal.Decimal, NoneType),\n (fractions.Fraction, float),\n (fractions.Fraction, hypothesis.strategies.RandomSeeder),\n (fractions.Fraction, bytes),\n (fractions.Fraction, uuid.UUID),\n (fractions.Fraction, dict),\n (fractions.Fraction, bool),\n (fractions.Fraction, hypothesis.types.RandomWithSeed),\n (fractions.Fraction, int),\n (fractions.Fraction, decimal.Decimal),\n (NoneType, list),\n (NoneType, bool),\n (NoneType, complex),\n (NoneType, bytes),\n (NoneType, fractions.Fraction),\n (NoneType, NoneType),\n (NoneType, dict),\n (NoneType, float),\n (hypothesis.strategies.iterables.<locals>.PrettyIter, bytes),\n (hypothesis.strategies.iterables.<locals>.PrettyIter, dict),\n (hypothesis.strategies.iterables.<locals>.PrettyIter, str),\n (hypothesis.strategies.iterables.<locals>.PrettyIter, complex),\n (hypothesis.strategies.iterables.<locals>.PrettyIter, float),\n (hypothesis.strategies.RandomSeeder, hypothesis.strategies.RandomSeeder),\n (hypothesis.strategies.RandomSeeder, list),\n (hypothesis.strategies.RandomSeeder, bool),\n (hypothesis.strategies.RandomSeeder, dict),\n (hypothesis.strategies.RandomSeeder, int),\n (hypothesis.types.RandomWithSeed, int),\n (hypothesis.types.RandomWithSeed, dict),\n (hypothesis.types.RandomWithSeed, uuid.UUID),\n (hypothesis.types.RandomWithSeed, str),\n (hypothesis.types.RandomWithSeed, hypothesis.types.RandomWithSeed),\n (hypothesis.types.RandomWithSeed, bytes),\n (hypothesis.types.RandomWithSeed, complex),\n (uuid.UUID, int),\n (uuid.UUID, NoneType),\n (uuid.UUID, uuid.UUID),\n (uuid.UUID, bytes),\n (uuid.UUID, str),\n (bool, bool),\n (bool, uuid.UUID),\n (bool, list),\n (bool, decimal.Decimal),\n (bool, int),\n (bool, bytes),\n (bool, hypothesis.strategies.RandomSeeder),\n (bool, str),\n (bool, tuple),\n (bool, dict),\n (bool, complex),\n (bytes, NoneType),\n (bytes, fractions.Fraction),\n (bytes, decimal.Decimal),\n (bytes, bool),\n (bytes, bytes),\n (bytes, str),\n (bytes, hypothesis.types.RandomWithSeed),\n (bytes, tuple),\n (bytes, complex),\n (bytes, dict),\n (bytes, list),\n (bytes, float),\n (bytes, int),\n (bytes, hypothesis.strategies.RandomSeeder),\n (complex, NoneType),\n (complex, list),\n (complex, hypothesis.strategies.RandomSeeder),\n (complex, complex),\n (complex, int),\n (complex, str),\n (complex, bytes),\n (complex, decimal.Decimal),\n (complex, uuid.UUID),\n (dict, decimal.Decimal),\n (dict, int),\n (dict, hypothesis.types.RandomWithSeed),\n (dict, bool),\n (dict, uuid.UUID),\n (dict, dict),\n (dict, complex),\n (dict, float),\n (dict, bytes),\n (dict, str),\n (dict, NoneType),\n (float, decimal.Decimal),\n (float, int),\n (float, bool),\n (float, uuid.UUID),\n (float, hypothesis.types.RandomWithSeed),\n (float, bytes),\n (float, list),\n (float, NoneType),\n (int, int),\n (int, float),\n (int, NoneType),\n (int, str),\n (int, bytes),\n (int, complex),\n (list, bool),\n (list, int),\n (list, bytes),\n (list, str),\n (list, complex),\n (list, dict),\n (str, str),\n (str, NoneType),\n (str, int),\n (str, dict),\n (str, bool),\n (str, fractions.Fraction),\n (str, tuple),\n (str, list),\n (str, hypothesis.types.RandomWithSeed),\n (str, hypothesis.strategies.RandomSeeder),\n (str, bytes),\n (str, complex),\n (tuple, bool),\n (tuple, complex),\n (tuple, hypothesis.strategies.RandomSeeder),\n (tuple, list),\n (tuple, float),\n (tuple, uuid.UUID),\n (tuple, bytes)]"
      ]
     },
     "execution_count": 7,
     "metadata": {},
     "output_type": "execute_result"
    }
   ],
   "source": [
    "sorted(success_map(), key=lambda i:i[0].__name__)"
   ]
  },
  {
   "cell_type": "code",
   "execution_count": 8,
   "metadata": {},
   "outputs": [
    {
     "data": {
      "text/plain": [
       "({'args': (Fraction(227, 1), iter([])),\n  'message': \"Can't pickle local object 'iterables.<locals>.PrettyIter'\",\n  'type': AttributeError},)"
      ]
     },
     "execution_count": 8,
     "metadata": {},
     "output_type": "execute_result"
    }
   ],
   "source": [
    "crash_map()"
   ]
  },
  {
   "cell_type": "code",
   "execution_count": null,
   "metadata": {},
   "outputs": [],
   "source": [
    ""
   ]
  }
 ],
 "metadata": {
  "kernelspec": {
   "display_name": "Python 2",
   "language": "python",
   "name": "python2"
  },
  "language_info": {
   "codemirror_mode": {
    "name": "ipython",
    "version": 2.0
   },
   "file_extension": ".py",
   "mimetype": "text/x-python",
   "name": "python",
   "nbconvert_exporter": "python",
   "pygments_lexer": "ipython2",
   "version": "2.7.6"
  }
 },
 "nbformat": 4,
 "nbformat_minor": 0
}