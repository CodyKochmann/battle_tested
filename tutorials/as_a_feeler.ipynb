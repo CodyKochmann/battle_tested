{
 "cells": [
  {
   "cell_type": "code",
   "execution_count": 35,
   "metadata": {
    "collapsed": true
   },
   "outputs": [
    {
     "name": "stdout",
     "output_type": "stream",
     "text": [
      "Exception reporting mode: Plain\n"
     ]
    }
   ],
   "source": [
    "# this is just to silence \n",
    "%xmode plain"
   ]
  },
  {
   "cell_type": "markdown",
   "metadata": {
    "collapsed": true
   },
   "source": [
    "## Using `battle_tested` to feel out new libraries.\n",
    "\n",
    "`battle_tested` doesn't necessisarily need to be used as a fuzzer. I like to use its testing \n",
    "funcionality to literally \"feel out\" a library that is recommended to me so I know what works\n",
    "and what will cause issues.\n",
    "\n",
    "Here is how I used `battle_tested` to \"feel out\" sqlitedict so when I'm using it, there aren't \n",
    "any surprises.\n",
    "\n",
    "First, lets import `SqliteDict` and make a harness that will allow us to test what can be assigned and what will cause random explosions to happen."
   ]
  },
  {
   "cell_type": "code",
   "execution_count": 36,
   "metadata": {},
   "outputs": [],
   "source": [
    "from sqlitedict import SqliteDict\n",
    "\n",
    "def harness(key, value):\n",
    "    \"\"\" this tests what can be assigned in SqliteDict's keys and values \"\"\"\n",
    "    mydict = SqliteDict(\":memory:\")\n",
    "    mydict[key] = value"
   ]
  },
  {
   "cell_type": "markdown",
   "metadata": {},
   "source": [
    "Now, we import the tools we need from `battle_tested` and fuzz it."
   ]
  },
  {
   "cell_type": "code",
   "execution_count": 37,
   "metadata": {},
   "outputs": [
    {
     "name": "stdout",
     "output_type": "stream",
     "text": [
      "testing: harness()\ntests: 9            speed: 88/sec  avg: 88\n"
     ]
    },
    {
     "name": "stdout",
     "output_type": "stream",
     "text": [
      "tests: 61           speed: 171/sec  avg: 130\n"
     ]
    },
    {
     "name": "stdout",
     "output_type": "stream",
     "text": [
      "tests: 115          speed: 188/sec  avg: 149\n"
     ]
    },
    {
     "name": "stdout",
     "output_type": "stream",
     "text": [
      "tests: 166          speed: 192/sec  avg: 160\n"
     ]
    },
    {
     "name": "stdout",
     "output_type": "stream",
     "text": [
      "tests: 218          speed: 195/sec  avg: 167\n"
     ]
    },
    {
     "name": "stdout",
     "output_type": "stream",
     "text": [
      "tests: 265          speed: 193/sec  avg: 171\n"
     ]
    },
    {
     "name": "stdout",
     "output_type": "stream",
     "text": [
      "tests: 311          speed: 191/sec  avg: 174\n"
     ]
    },
    {
     "name": "stdout",
     "output_type": "stream",
     "text": [
      "tests: 359          speed: 191/sec  avg: 176\ntotal tests: 387\nfound 1 examples that break harness()\n"
     ]
    }
   ],
   "source": [
    "from battle_tested import fuzz, success_map, crash_map\n",
    "\n",
    "fuzz(harness, keep_testing=True) # keep testing allows us to collect \"all\" crashes"
   ]
  },
  {
   "cell_type": "markdown",
   "metadata": {},
   "source": [
    "Now we can call `success_map()` and `crash_map()` to start to get a feel for what is accepted and what isn't."
   ]
  },
  {
   "cell_type": "code",
   "execution_count": 38,
   "metadata": {
    "collapsed": true
   },
   "outputs": [
    {
     "data": {
      "text/plain": [
       "({'arg_types': (dict, hypothesis.strategies.iterables.<locals>.PrettyIter),\n  'args': ({'\\n児\\r': (0.248129851304151-5.746517236706694e+18j),\n    '(\\n*\\x05c\\U000a0c6dꍥ\\x16': (),\n    '\\x90\\x10\\x02\\U000606feG6\\U0006c4d7': '\\x9a',\n    '\\x92\\x08óC\\U0006a176aƕ': -2525536483606756998302721813900421},\n   iter([])),\n  'message': \"Can't pickle local object 'iterables.<locals>.PrettyIter'\",\n  'type': AttributeError},)"
      ]
     },
     "execution_count": 38,
     "metadata": {},
     "output_type": "execute_result"
    }
   ],
   "source": [
    "crash_map()"
   ]
  },
  {
   "cell_type": "code",
   "execution_count": 39,
   "metadata": {
    "collapsed": false
   },
   "outputs": [
    {
     "data": {
      "text/plain": [
       "((decimal.Decimal, bytes),\n (decimal.Decimal, hypothesis.strategies.RandomSeeder),\n (decimal.Decimal, hypothesis.types.RandomWithSeed),\n (decimal.Decimal, str),\n (decimal.Decimal, bool),\n (decimal.Decimal, uuid.UUID),\n (decimal.Decimal, float),\n (decimal.Decimal, decimal.Decimal),\n (fractions.Fraction, list),\n (fractions.Fraction, complex),\n (fractions.Fraction, tuple),\n (fractions.Fraction, hypothesis.strategies.RandomSeeder),\n (fractions.Fraction, bytes),\n (fractions.Fraction, float),\n (NoneType, fractions.Fraction),\n (NoneType, list),\n (NoneType, hypothesis.types.RandomWithSeed),\n (NoneType, decimal.Decimal),\n (NoneType, hypothesis.strategies.RandomSeeder),\n (NoneType, str),\n (NoneType, int),\n (NoneType, NoneType),\n (NoneType, dict),\n (hypothesis.strategies.iterables.<locals>.PrettyIter, dict),\n (hypothesis.strategies.iterables.<locals>.PrettyIter, float),\n (hypothesis.strategies.iterables.<locals>.PrettyIter,\n  hypothesis.types.RandomWithSeed),\n (hypothesis.strategies.iterables.<locals>.PrettyIter, list),\n (hypothesis.strategies.iterables.<locals>.PrettyIter, uuid.UUID),\n (hypothesis.strategies.iterables.<locals>.PrettyIter, bytes),\n (hypothesis.strategies.iterables.<locals>.PrettyIter, tuple),\n (hypothesis.strategies.iterables.<locals>.PrettyIter, complex),\n (hypothesis.strategies.RandomSeeder, hypothesis.types.RandomWithSeed),\n (hypothesis.strategies.RandomSeeder, str),\n (hypothesis.strategies.RandomSeeder, decimal.Decimal),\n (hypothesis.strategies.RandomSeeder, bytes),\n (hypothesis.strategies.RandomSeeder, float),\n (hypothesis.strategies.RandomSeeder, tuple),\n (hypothesis.strategies.RandomSeeder, fractions.Fraction),\n (hypothesis.strategies.RandomSeeder, dict),\n (hypothesis.strategies.RandomSeeder, uuid.UUID),\n (hypothesis.strategies.RandomSeeder, bool),\n (hypothesis.types.RandomWithSeed, NoneType),\n (hypothesis.types.RandomWithSeed, float),\n (hypothesis.types.RandomWithSeed, hypothesis.types.RandomWithSeed),\n (hypothesis.types.RandomWithSeed, int),\n (hypothesis.types.RandomWithSeed, tuple),\n (hypothesis.types.RandomWithSeed, fractions.Fraction),\n (hypothesis.types.RandomWithSeed, bool),\n (hypothesis.types.RandomWithSeed, dict),\n (hypothesis.types.RandomWithSeed, complex),\n (uuid.UUID, dict),\n (uuid.UUID, list),\n (uuid.UUID, complex),\n (uuid.UUID, bytes),\n (uuid.UUID, int),\n (uuid.UUID, decimal.Decimal),\n (uuid.UUID, uuid.UUID),\n (uuid.UUID, NoneType),\n (bool, bool),\n (bool, list),\n (bool, decimal.Decimal),\n (bool, bytes),\n (bool, hypothesis.strategies.RandomSeeder),\n (bool, uuid.UUID),\n (bool, hypothesis.types.RandomWithSeed),\n (bool, fractions.Fraction),\n (bool, str),\n (bool, float),\n (bool, NoneType),\n (bool, tuple),\n (bool, dict),\n (bool, complex),\n (bytes, NoneType),\n (bytes, uuid.UUID),\n (bytes, hypothesis.types.RandomWithSeed),\n (bytes, bool),\n (bytes, bytes),\n (bytes, str),\n (bytes, tuple),\n (bytes, dict),\n (bytes, list),\n (bytes, float),\n (bytes, hypothesis.strategies.RandomSeeder),\n (complex, float),\n (complex, fractions.Fraction),\n (complex, complex),\n (complex, int),\n (complex, hypothesis.strategies.RandomSeeder),\n (complex, str),\n (complex, hypothesis.types.RandomWithSeed),\n (dict, decimal.Decimal),\n (dict, hypothesis.types.RandomWithSeed),\n (dict, int),\n (dict, bool),\n (dict, dict),\n (dict, hypothesis.strategies.RandomSeeder),\n (dict, complex),\n (dict, tuple),\n (dict, float),\n (dict, bytes),\n (dict, str),\n (dict, NoneType),\n (float, hypothesis.types.RandomWithSeed),\n (float, int),\n (float, bool),\n (float, dict),\n (float, bytes),\n (float, str),\n (float, list),\n (float, NoneType),\n (int, hypothesis.strategies.RandomSeeder),\n (int, NoneType),\n (int, fractions.Fraction),\n (int, str),\n (int, bytes),\n (int, complex),\n (int, bool),\n (int, hypothesis.types.RandomWithSeed),\n (int, decimal.Decimal),\n (list, bool),\n (list, fractions.Fraction),\n (list, bytes),\n (list, str),\n (list, dict),\n (str, str),\n (str, NoneType),\n (str, hypothesis.types.RandomWithSeed),\n (str, int),\n (str, dict),\n (str, tuple),\n (str, list),\n (str, bytes),\n (str, uuid.UUID),\n (str, hypothesis.strategies.RandomSeeder),\n (str, decimal.Decimal),\n (str, complex),\n (tuple, bool),\n (tuple, dict),\n (tuple, fractions.Fraction),\n (tuple, uuid.UUID),\n (tuple, list),\n (tuple, float),\n (tuple, NoneType),\n (tuple, hypothesis.types.RandomWithSeed),\n (tuple, bytes),\n (tuple, str))"
      ]
     },
     "execution_count": 39,
     "metadata": {},
     "output_type": "execute_result"
    }
   ],
   "source": [
    "success_map()"
   ]
  },
  {
   "cell_type": "code",
   "execution_count": null,
   "metadata": {},
   "outputs": [],
   "source": [
    ""
   ]
  }
 ],
 "metadata": {
  "kernelspec": {
   "display_name": "Python 2",
   "language": "python",
   "name": "python2"
  },
  "language_info": {
   "codemirror_mode": {
    "name": "ipython",
    "version": 2.0
   },
   "file_extension": ".py",
   "mimetype": "text/x-python",
   "name": "python",
   "nbconvert_exporter": "python",
   "pygments_lexer": "ipython2",
   "version": "2.7.6"
  }
 },
 "nbformat": 4,
 "nbformat_minor": 0
}