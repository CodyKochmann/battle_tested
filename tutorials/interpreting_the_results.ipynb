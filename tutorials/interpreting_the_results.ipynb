{
 "cells": [
  {
   "cell_type": "markdown",
   "metadata": {
    "collapsed": true
   },
   "source": [
    "# Interpreting The Results"
   ]
  },
  {
   "cell_type": "code",
   "execution_count": 1,
   "metadata": {},
   "outputs": [
    {
     "data": {
      "text/plain": [
       "+------------------------+-----------------------------------------------------------------------------------------------------------------------------+\n",
       "|                        | +----------+                                                                                                                |\n",
       "|                        | | NoneType |                                                                                                                |\n",
       "|                        | |  bytes   |                                                                                                                |\n",
       "|                        | | complex  |                                                                                                                |\n",
       "|                        | |   dict   |                                                                                                                |\n",
       "| crash_input_types      | |  float   |                                                                                                                |\n",
       "|                        | |   list   |                                                                                                                |\n",
       "|                        | |   set    |                                                                                                                |\n",
       "|                        | |   str    |                                                                                                                |\n",
       "|                        | |  tuple   |                                                                                                                |\n",
       "|                        | +----------+                                                                                                                |\n",
       "|                        | +---------------+                                                                                                           |\n",
       "|                        | | OverflowError |                                                                                                           |\n",
       "| exception_types        | |   TypeError   |                                                                                                           |\n",
       "|                        | |   ValueError  |                                                                                                           |\n",
       "|                        | +---------------+                                                                                                           |\n",
       "|                        | +---------+                                                                                                                 |\n",
       "| iffy_input_types       | |  bytes  |                                                                                                                 |\n",
       "|                        | |  float  |                                                                                                                 |\n",
       "|                        | +---------+                                                                                                                 |\n",
       "|                        | +---------+                                                                                                                 |\n",
       "| output_types           | |   int   |                                                                                                                 |\n",
       "|                        | +---------+                                                                                                                 |\n",
       "|                        | +----------+                                                                                                                |\n",
       "|                        | |   bool   |                                                                                                                |\n",
       "| successful_input_types | | Fraction |                                                                                                                |\n",
       "|                        | |   int    |                                                                                                                |\n",
       "|                        | |   UUID   |                                                                                                                |\n",
       "|                        | +----------+                                                                                                                |\n",
       "| successful_io          | deque([], maxlen=256)                                                                                                       |\n",
       "|                        | +----------------+------------+-----------+-------------------------------------------------------------------------------+ |\n",
       "|                        | | exception type | arg types  | location  | crash message                                                                 | |\n",
       "|                        | +----------------+------------+-----------+-------------------------------------------------------------------------------+ |\n",
       "| unique_crashes         | | OverflowError  | ('float',) | line 1184 | 'cannot convert float infinity to integer'                                    | |\n",
       "|                        | | TypeError      | ('set',)   | line 1184 | \"int() argument must be a string, a bytes-like object or a number, not 'set'\" | |\n",
       "|                        | | ValueError     | ('str',)   | line 1184 | \"invalid literal for int() with base 10: 'PEP'\"                               | |\n",
       "|                        | +----------------+------------+-----------+-------------------------------------------------------------------------------+ |\n",
       "+------------------------+-----------------------------------------------------------------------------------------------------------------------------+"
      ]
     },
     "execution_count": 1,
     "metadata": {},
     "output_type": "execute_result"
    }
   ],
   "source": [
    "from battle_tested import fuzz\n",
    "\n",
    "fuzz(int, quiet=True)"
   ]
  },
  {
   "cell_type": "code",
   "execution_count": null,
   "metadata": {},
   "outputs": [],
   "source": []
  }
 ],
 "metadata": {
  "kernelspec": {
   "display_name": "Python 3",
   "language": "python",
   "name": "python3"
  },
  "language_info": {
   "codemirror_mode": {
    "name": "ipython",
    "version": 3
   },
   "file_extension": ".py",
   "mimetype": "text/x-python",
   "name": "python",
   "nbconvert_exporter": "python",
   "pygments_lexer": "ipython3",
   "version": "3.6.3"
  }
 },
 "nbformat": 4,
 "nbformat_minor": 1
}
